{
 "cells": [
  {
   "cell_type": "markdown",
   "source": [
    "# Splątane sieci neuronowe CNN – architektura LeNet5"
   ],
   "metadata": {
    "collapsed": false
   },
   "id": "7de5e5cfa7aa206e"
  },
  {
   "cell_type": "markdown",
   "source": [
    "## 1. Opis\n",
    "Celem projektu jest ustalenie jak różne architektury głębokiego uczenia, sprawują się na danych astronomicznych. Do tego celu zostaną wykorzystane dane z projektu AstroNN [\\[1\\]](#1-httpsastronnreadthedocsioenstablegalaxy10sdsshtml). Projekt ten został zbudowany z danych zgromadzonych w projekcie Sloan Digital Sky Survey [\\[2\\]](#2-httpswwwsdss4org) (SDSS), prowadzący szczegółowy obraz nieba. Na podstawie tych danych zostały przygotowane obrazy galaktyk, które są w rozmiarze 64*64*3. Dodatkowo w projekcie AstroNN są wykorzystane dane zgromadzone w projekcie Galaxy Zoo [\\[3\\]](#3-httpswwwzooniverseorgprojectszookeepergalaxy-zoo), gdzie dokonywana jest klasyfikacja galaktyk. Na podstawie tych danych powstały etykiety, które są wykorzystywane w projekcie AstroNN."
   ],
   "metadata": {
    "collapsed": false
   },
   "id": "7ba77b5f44be1c31"
  },
  {
   "cell_type": "markdown",
   "source": [
    "LeNet5 jest to architektura przedstawiona przez Yann LeCun w 1989 roku [\\[4\\]](#4-bartosz-michalski-małgorzata-plechawska-wójcik-porównanie-modeli-lenet-5-alexnet-i-googlenet-w-rozpoznawaniu-pisma-ręcznego-2022). Jest jedną z najstarszych, a zarazem najprostszych architektur sieci splątanych. Służyła do rozpoznawania kodów pocztowych napisanych ręcznie na listach i dobrze sprawdzała się w tej roli, udowadniając, że jest przydatna również w zastosowaniach komercyjnych. "
   ],
   "metadata": {
    "collapsed": false
   },
   "id": "3d2be3ea16359774"
  },
  {
   "cell_type": "markdown",
   "source": [
    "## 2. Pobranie potrzebnych bibliotek\n",
    "Kolejnym krokiem jest wczytanie wszystkich potrzebnych bibliotek, dzięki którym będzie możliwe wykorzystanie ich w procesie klasyfikacji."
   ],
   "metadata": {
    "collapsed": false
   },
   "id": "dfdd7ac1f1f6b9b"
  },
  {
   "cell_type": "code",
   "execution_count": null,
   "id": "initial_id",
   "metadata": {
    "collapsed": true
   },
   "outputs": [],
   "source": [
    "from sklearn.model_selection import train_test_split\n",
    "from keras.models import Sequential\n",
    "from keras.layers import Conv2D, AveragePooling2D, Flatten, Dense\n",
    "from keras.callbacks import ReduceLROnPlateau\n",
    "from keras.optimizers import Adam\n",
    "\n",
    "from astroNN.datasets import galaxy10sdss\n",
    "import pandas as pd\n",
    "from datetime import date\n",
    "import pathlib"
   ]
  },
  {
   "cell_type": "markdown",
   "source": [
    "## 3. Utworzenie daty\n",
    "Następnie ustawiamy datę. Jest to potrzebne do generowania plików wynikowych. W obecnym pliku zostaną wykonane jedynie badania, a wyniki zostaną opracowane w późniejszym czasie. Ma to pozwolić zmniejszyć wymagania sprzętowe przy wykonywaniu projektu."
   ],
   "metadata": {
    "collapsed": false
   },
   "id": "96c59248e503d4dd"
  },
  {
   "cell_type": "code",
   "outputs": [],
   "source": [
    "today = date.today()\n",
    "day = today.strftime(\"%Y-%m-%d\")\n",
    "pathlib.Path('./Results/'+day).mkdir(parents=True, exist_ok=True)"
   ],
   "metadata": {
    "collapsed": false,
    "ExecuteTime": {
     "end_time": "2024-01-05T09:51:38.218244808Z",
     "start_time": "2024-01-05T09:51:38.216403418Z"
    }
   },
   "id": "b51e31ddf1075739",
   "execution_count": 2
  },
  {
   "cell_type": "markdown",
   "source": [
    "## 4. Przygotowanie danych\n",
    "W tym kroku pobieramy dane, a następnie przygotowujemy je do klasyfikacji. Modele głębokiej sieci neuronowej [\\[5\\]](#5-paweł-krakowiak-deep-learning-w-języku-python--konwolucyjne-sieci-neuronowe) wymaga danych z zakresu 0..1, dlatego wszystkie wartości w danych są dzielone przez 255. Powodem takiego zachowania jest fakt, że dane obrazów są przechowywane w zakresie liczb 0..255. Dzielenie przez 255 powoduje, że dane zostaną zapisane w zakresie od 0..1, zgodnie z wymaganiami modelu."
   ],
   "metadata": {
    "collapsed": false
   },
   "id": "2aede063318e7d5e"
  },
  {
   "cell_type": "code",
   "outputs": [
    {
     "name": "stdout",
     "output_type": "stream",
     "text": [
      "/home/grzegorz/.astroNN/datasets/Galaxy10.h5 was found!\n"
     ]
    }
   ],
   "source": [
    "images, labels = galaxy10sdss.load_data()\n",
    "x_train, x_test, y_train, y_test = train_test_split(images, labels, test_size=0.2)\n",
    "x_train, x_valid, y_train, y_valid = train_test_split(x_train, y_train, test_size=0.2)\n",
    "\n",
    "features = ['Disk, Face-on, No Spiral', 'Smooth, Completely round', 'Smooth, in-between round', 'Smooth, Cigar shaped', 'Disk, Edge-on, Rounded Bulge', 'Disk, Edge-on, Boxy Bulge','Disk, Edge-on, No Bulge','Disk, Face-on, Tight Spiral', 'Disk, Face-on, Medium Spiral', 'Disk, Face-on, Loose Spiral']\n",
    "\n",
    "x_train = x_train / 255.0\n",
    "x_valid = x_valid / 255.0\n",
    "x_test = x_test / 255.0"
   ],
   "metadata": {
    "collapsed": false,
    "ExecuteTime": {
     "end_time": "2024-01-05T09:51:44.174441292Z",
     "start_time": "2024-01-05T09:51:40.739840728Z"
    }
   },
   "id": "a85c7ac17d00fa06",
   "execution_count": 3
  },
  {
   "cell_type": "code",
   "outputs": [
    {
     "data": {
      "text/plain": "((13942, 69, 69, 3), (3486, 69, 69, 3), (4357, 69, 69, 3))"
     },
     "execution_count": 4,
     "metadata": {},
     "output_type": "execute_result"
    }
   ],
   "source": [
    "reduceLR = ReduceLROnPlateau(monitor='accuracy', factor=.001, patience=1, min_delta=0.01, mode=\"auto\")\n",
    "x_train.shape, x_valid.shape, x_test.shape"
   ],
   "metadata": {
    "collapsed": false,
    "ExecuteTime": {
     "end_time": "2024-01-05T09:51:44.185450849Z",
     "start_time": "2024-01-05T09:51:44.177746414Z"
    }
   },
   "id": "bb273133e35fa817",
   "execution_count": 4
  },
  {
   "cell_type": "markdown",
   "source": [
    "## 5. Budowa modelu.\n",
    "Model w tym przypadku jest bardzo prosty. Jest to model warstwowy i jako pierwsza warstwa jest to warstwa flatten. Zadaniem tej warstwy jest spłaszczenie obrazu z wymiarów 69*69 na pojedynczy ciąg, jest to warstwa wejściowa. Kolejną warstwą jest warstwa ukryta z aktywatorem RELU. Aktywator ten powoduje, że każdy otrzymany wynik ujemy, zostaje zamieniony na zero [\\[6\\]](#6-httpsbuiltincommachine-learningrelu-activation-function) [\\[7\\]](#7-httpsdatascienceeupluczenie-maszynowerelu-funkcja-aktywujaca). Pozwala to na przełamanie liniowości procesu. Ostatnią warstwą jest gęsto połączona warstwa wyjściowa. W naszym modelu klasyfikacja odbywa się dla 10 kategorii dlatego właśnie taka."
   ],
   "metadata": {
    "collapsed": false
   },
   "id": "d014dea10f2b78b6"
  },
  {
   "cell_type": "code",
   "outputs": [],
   "source": [
    "model = Sequential()\n",
    "model.add(Conv2D(filters=6, kernel_size=(5,5), strides=(1,1), activation='tanh', input_shape=(69,69,3)))\n",
    "model.add(AveragePooling2D(pool_size=(2,2), strides=(2,2)))\n",
    "model.add(Conv2D(filters=16, kernel_size=(5,5), strides=(1,1), activation='tanh'))\n",
    "model.add(AveragePooling2D(pool_size=(2,2), strides=(2,2)))\n",
    "model.add(Flatten())\n",
    "model.add(Dense(units=120, activation='tanh'))\n",
    "model.add(Dense(units=84, activation='tanh'))\n",
    "model.add(Dense(units=10, activation='softmax'))\n",
    "model_optimizer = Adam(learning_rate=0.001)\n",
    "\n",
    "model.compile(optimizer=model_optimizer, loss='sparse_categorical_crossentropy', metrics=[\"accuracy\"])\n",
    "model.summary()"
   ],
   "metadata": {
    "collapsed": false
   },
   "id": "5a863d1658bf0ca2",
   "execution_count": null
  },
  {
   "cell_type": "markdown",
   "source": [
    "## 6. Uczenie\n",
    "W tym momencie model zaczyna proces uczenia. Czyli otrzymuje dwa zbiory danych i etykiet. Pierwszy z nich to dane, na podstawie których model się uczy. Drugi mniejszy zbiór jest zbiorem walidacyjnym, który pozwala na sprawdzenie postępów w nauce, na danych, których model jeszcze nie widział. Pozwala to ocenić postępy w nauce już w czasie uczenia. Kolejny zbiór danych zostanie wykorzystany na końcu celem ostatecznego sprawdzenia poprawności działania modelu."
   ],
   "metadata": {
    "collapsed": false
   },
   "id": "dfe882e63b91e321"
  },
  {
   "cell_type": "code",
   "outputs": [
    {
     "name": "stdout",
     "output_type": "stream",
     "text": [
      "Epoch 1/10\n",
      "436/436 [==============================] - 13s 29ms/step - loss: 1.3536 - accuracy: 0.4757 - val_loss: 1.0059 - val_accuracy: 0.6474 - lr: 0.0010\n",
      "Epoch 2/10\n",
      "436/436 [==============================] - 12s 28ms/step - loss: 0.8956 - accuracy: 0.6764 - val_loss: 0.8191 - val_accuracy: 0.7123 - lr: 0.0010\n",
      "Epoch 3/10\n",
      "436/436 [==============================] - 12s 28ms/step - loss: 0.7713 - accuracy: 0.7196 - val_loss: 0.7807 - val_accuracy: 0.7217 - lr: 0.0010\n",
      "Epoch 4/10\n",
      "436/436 [==============================] - 12s 27ms/step - loss: 0.6842 - accuracy: 0.7496 - val_loss: 0.7625 - val_accuracy: 0.7226 - lr: 0.0010\n",
      "Epoch 5/10\n",
      "436/436 [==============================] - 12s 28ms/step - loss: 0.6099 - accuracy: 0.7773 - val_loss: 0.7422 - val_accuracy: 0.7326 - lr: 0.0010\n",
      "Epoch 6/10\n",
      "436/436 [==============================] - 11s 26ms/step - loss: 0.5360 - accuracy: 0.8028 - val_loss: 0.7711 - val_accuracy: 0.7194 - lr: 0.0010\n",
      "Epoch 7/10\n",
      "436/436 [==============================] - 11s 25ms/step - loss: 0.4749 - accuracy: 0.8300 - val_loss: 0.7687 - val_accuracy: 0.7281 - lr: 0.0010\n",
      "Epoch 8/10\n",
      "436/436 [==============================] - 11s 25ms/step - loss: 0.4121 - accuracy: 0.8541 - val_loss: 0.7986 - val_accuracy: 0.7217 - lr: 0.0010\n",
      "Epoch 9/10\n",
      "436/436 [==============================] - 12s 27ms/step - loss: 0.3467 - accuracy: 0.8824 - val_loss: 0.7965 - val_accuracy: 0.7344 - lr: 0.0010\n",
      "Epoch 10/10\n",
      "436/436 [==============================] - 11s 25ms/step - loss: 0.2916 - accuracy: 0.8992 - val_loss: 0.8072 - val_accuracy: 0.7447 - lr: 0.0010\n"
     ]
    }
   ],
   "source": [
    "history = model.fit(x_train, y_train, epochs=10, callbacks=[reduceLR],validation_data=(x_valid, y_valid))"
   ],
   "metadata": {
    "collapsed": false,
    "ExecuteTime": {
     "end_time": "2024-01-05T09:53:49.275322942Z",
     "start_time": "2024-01-05T09:51:52.163289383Z"
    }
   },
   "id": "6c2e863c8f3cc395",
   "execution_count": 6
  },
  {
   "cell_type": "markdown",
   "source": [
    "## 7. Zapis otrzymanych danych podczas nauki\n",
    "Po zakończeniu uczenia zapisujemy dane, które otrzymaliśmy podczas uczenie do pliku CSV. Pozwoli nam to później przeanalizować dane w późniejszym czasie."
   ],
   "metadata": {
    "collapsed": false
   },
   "id": "bd4f4f3e5eb7fbb4"
  },
  {
   "cell_type": "code",
   "outputs": [],
   "source": [
    "historyModelLearning = pd.DataFrame()\n",
    "historyModelLearning['loss'] = history.history['loss']\n",
    "historyModelLearning['accuracy'] = history.history['accuracy']\n",
    "historyModelLearning['val_loss'] = history.history['val_loss']\n",
    "historyModelLearning['val_accuracy'] = history.history['val_accuracy']\n",
    "historyModelLearning.to_csv('./Results/'+day+'/HistoryModelLearningLeNet5-'+day+'.csv', index=True)"
   ],
   "metadata": {
    "collapsed": false,
    "ExecuteTime": {
     "end_time": "2024-01-05T09:53:49.282093036Z",
     "start_time": "2024-01-05T09:53:49.278582612Z"
    }
   },
   "id": "c2a9804332596a06",
   "execution_count": 7
  },
  {
   "cell_type": "markdown",
   "source": [
    "## 8. Sprawdzenie modelu na danych testowych. \n",
    "To jest ostateczne sprawdzenie danych. W tym sprawdzeniu otrzymamy również nie tylko informację jak jest współczynnik błędu klasyfikacji, ale również będziemy mogli przeglądać, które obrazy faktycznie zostały źle zaklasyfikowane i dzięki temu będzie możliwe poprawienie modelu."
   ],
   "metadata": {
    "collapsed": false
   },
   "id": "a95355ebad613e45"
  },
  {
   "cell_type": "code",
   "outputs": [
    {
     "name": "stdout",
     "output_type": "stream",
     "text": [
      "137/137 [==============================] - 0s 2ms/step\n"
     ]
    }
   ],
   "source": [
    "predict = model.predict(x_test).argmax(axis=1)"
   ],
   "metadata": {
    "collapsed": false,
    "ExecuteTime": {
     "end_time": "2024-01-05T09:53:49.873716517Z",
     "start_time": "2024-01-05T09:53:49.282353204Z"
    }
   },
   "id": "178cab91dbe3823",
   "execution_count": 8
  },
  {
   "cell_type": "markdown",
   "source": [
    "## 9. Zapis wyników testów do pliku CSV.\n",
    "To na postawie tych danych będziemy w stanie dokładniej stwierdzić, z czego wynikają problemy z klasyfikacją."
   ],
   "metadata": {
    "collapsed": false
   },
   "id": "8288ffe8f674b68b"
  },
  {
   "cell_type": "code",
   "outputs": [],
   "source": [
    "result = pd.DataFrame()\n",
    "result['predict'] = predict\n",
    "result['test'] = y_test\n",
    "result.to_csv('./Results/'+day+'/ResultLeNet5-'+day+'.csv', index=False)"
   ],
   "metadata": {
    "collapsed": false,
    "ExecuteTime": {
     "end_time": "2024-01-05T09:53:49.882648669Z",
     "start_time": "2024-01-05T09:53:49.875516898Z"
    }
   },
   "id": "9ddffa5f6e343055",
   "execution_count": 9
  },
  {
   "cell_type": "markdown",
   "source": [
    "## Literatura"
   ],
   "metadata": {
    "collapsed": false
   },
   "id": "b584053217744fc6"
  },
  {
   "cell_type": "markdown",
   "source": [
    "##### 1. https://astronn.readthedocs.io/en/stable/galaxy10sdss.html\n",
    "##### 2. https://www.sdss4.org/\n",
    "##### 3. https://www.zooniverse.org/projects/zookeeper/galaxy-zoo/\n",
    "##### 4. Bartosz Michalski, Małgorzata Plechawska-Wójcik, Porównanie modeli LeNet-5, AlexNet i GoogLeNet w rozpoznawaniu pisma ręcznego, 2022\n",
    "##### 5. Paweł Krakowiak, Deep learning w języku Python — Konwolucyjne Sieci Neuronowe\n",
    "##### 6. https://builtin.com/machine-learning/relu-activation-function\n",
    "##### 7. https://datascience.eu/pl/uczenie-maszynowe/relu-funkcja-aktywujaca/"
   ],
   "metadata": {
    "collapsed": false
   },
   "id": "af6917cf4289c8a4"
  },
  {
   "cell_type": "code",
   "outputs": [],
   "source": [],
   "metadata": {
    "collapsed": false
   },
   "id": "4d07db98147f582b"
  }
 ],
 "metadata": {
  "kernelspec": {
   "display_name": "Python 3",
   "language": "python",
   "name": "python3"
  },
  "language_info": {
   "codemirror_mode": {
    "name": "ipython",
    "version": 2
   },
   "file_extension": ".py",
   "mimetype": "text/x-python",
   "name": "python",
   "nbconvert_exporter": "python",
   "pygments_lexer": "ipython2",
   "version": "2.7.6"
  }
 },
 "nbformat": 4,
 "nbformat_minor": 5
}
