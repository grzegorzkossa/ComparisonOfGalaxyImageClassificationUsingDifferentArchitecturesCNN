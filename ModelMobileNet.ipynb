{
 "cells": [
  {
   "cell_type": "markdown",
   "source": [
    "# Splątane sieci neuronowe CNN – architektura MobileNet"
   ],
   "metadata": {
    "collapsed": false
   },
   "id": "fdb98a002d6c8e4b"
  },
  {
   "cell_type": "markdown",
   "source": [
    "## 1. Opis\n",
    "Celem projektu jest ustalenie jak różne metody głębokiego uczenia, sprawują się na danych astronomicznych. Do tego celu zostaną wykorzystane dane z projektu AstroNN [\\[1\\]](#1-httpsastronnreadthedocsioenstablegalaxy10sdsshtml). Projekt ten został zbudowany z danych zgromadzonych w projekcie Sloan Digital Sky Survey [\\[2\\]](#2-httpswwwsdss4org) (SDSS), prowadzący szczegółowy obraz nieba. Na podstawie tych danych zostały przygotowane obrazy galaktyk, które są w rozmiarze 64*64*3. Dodatkowo w projekcie są wykorzystane dane zgromadzone w projekcie Galaxy Zoo [\\[3\\]](#3-httpswwwzooniverseorgprojectszookeepergalaxy-zoo), gdzie dokonywana jest klasyfikacja galaktyk. Na podstawie tych danych powstały etykiety, które są wykorzystywane w projekcie AstroNN."
   ],
   "metadata": {
    "collapsed": false
   },
   "id": "603344f305f4a623"
  },
  {
   "cell_type": "markdown",
   "source": [
    "MobileNetV3Small [\\[4\\]](#4-httpstowardsdatasciencecomeverything-you-need-to-know-about-mobilenetv3-and-its-comparison-with-previous-versions-a5d5e5a6eeaa-dostęp-2024-01-04) jest to najnowsza odsłona projektu MobileNet. Została zaprojektowana przez firmę Google. Został zaprojektowany do wykorzystania w urządzeniach mobilnych takich jak smartfony. Pierwsza wersja została zaprezentowana w 2017 roku. "
   ],
   "metadata": {
    "collapsed": false
   },
   "id": "3cc539033919b9ac"
  },
  {
   "cell_type": "markdown",
   "source": [
    "W tym projekcie możliwości, jakie daje ta architektura, nie zostaną do końca wykorzystane. Powodem jest chęć porównania otrzymanych wyników z wcześniejszymi architekturami. Dlatego po utworzeniu obiektu ustawiam flagę trainable na True, co spowoduje, że uczenie sieci rozpocznie się od nowa. Takie podejście jest spowodowane tym, że ta architektura jest bardzo skomplikowana i ręczna implementacja tak jak wcześniejszych mogłoby spowodować błędy, które miałyby wpływ na uzyskane wyniki. Dzięki takiemu podejściu eliminuje możliwość popełnienia błędu już na etapie implementacji. "
   ],
   "metadata": {
    "collapsed": false
   },
   "id": "d8ef25faee0cb1a"
  },
  {
   "cell_type": "markdown",
   "source": [
    "## 2. Pobranie potrzebnych bibliotek\n",
    "Kolejnym krokiem jest wczytanie wszystkich potrzebnych bibliotek, dzięki którym będzie możliwe wykorzystanie ich w procesie klasyfikacji."
   ],
   "metadata": {
    "collapsed": false
   },
   "id": "c8bdec3810a0ab26"
  },
  {
   "cell_type": "code",
   "execution_count": null,
   "id": "initial_id",
   "metadata": {
    "collapsed": true
   },
   "outputs": [],
   "source": [
    "from sklearn.model_selection import train_test_split\n",
    "from keras.callbacks import ReduceLROnPlateau\n",
    "from keras.models import Sequential\n",
    "from astroNN.datasets import galaxy10sdss\n",
    "import pandas as pd\n",
    "from keras.applications import MobileNetV3Small\n",
    "from keras.applications.mobilenet_v3 import preprocess_input\n",
    "from datetime import date\n",
    "import pathlib"
   ]
  },
  {
   "cell_type": "markdown",
   "source": [
    "## 3. Utworzenie daty\n",
    "Następnie ustawiamy datę. Jest to potrzebne do generowania plików wynikowych. W obecnym pliku zostaną wykonane jedynie badania, a wyniki zostaną opracowane w późniejszym czasie. Ma to pozwolić zmniejszyć wymagania sprzętowe przy wykonywaniu projektu."
   ],
   "metadata": {
    "collapsed": false
   },
   "id": "c275bf24669defe"
  },
  {
   "cell_type": "code",
   "outputs": [],
   "source": [
    "today = date.today()\n",
    "day = today.strftime(\"%Y-%m-%d\")\n",
    "pathlib.Path('./Results/'+day).mkdir(parents=True, exist_ok=True)"
   ],
   "metadata": {
    "collapsed": false,
    "ExecuteTime": {
     "end_time": "2024-01-05T10:00:17.994099622Z",
     "start_time": "2024-01-05T10:00:17.990924624Z"
    }
   },
   "id": "b9998baa6d8ba8fb",
   "execution_count": 2
  },
  {
   "cell_type": "markdown",
   "source": [
    "## 4. Przygotowanie danych\n",
    "W tym kroku pobieramy dane, a następnie przygotowujemy je do klasyfikacji. Modele głębokiej sieci neuronowej [\\[5\\]](#5-paweł-krakowiak-deep-learning-w-języku-python--konwolucyjne-sieci-neuronowe) wymaga danych z zakresu 0..1, dlatego wszystkie wartości w danych są dzielone przez 255. Powodem takiego zachowania jest fakt, że dane obrazów są przechowywane w zakresie liczb 0..255. Dzielenie przez 255 powoduje, że dane zostaną zapisane w zakresie od 0..1, zgodnie z wymaganiami modelu."
   ],
   "metadata": {
    "collapsed": false
   },
   "id": "791af5ec1e21e194"
  },
  {
   "cell_type": "code",
   "outputs": [
    {
     "name": "stdout",
     "output_type": "stream",
     "text": [
      "/home/grzegorz/.astroNN/datasets/Galaxy10.h5 was found!\n"
     ]
    }
   ],
   "source": [
    "images, labels = galaxy10sdss.load_data()\n",
    "x_train, x_test, y_train, y_test = train_test_split(images, labels, test_size=0.2)\n",
    "x_train, x_valid, y_train, y_valid = train_test_split(x_train, y_train, test_size=0.2)\n",
    "\n",
    "features = ['Disk, Face-on, No Spiral', 'Smooth, Completely round', 'Smooth, in-between round', 'Smooth, Cigar shaped', 'Disk, Edge-on, Rounded Bulge', 'Disk, Edge-on, Boxy Bulge','Disk, Edge-on, No Bulge','Disk, Face-on, Tight Spiral', 'Disk, Face-on, Medium Spiral', 'Disk, Face-on, Loose Spiral']\n",
    "\n",
    "x_train = preprocess_input(x_train)\n",
    "x_valid = preprocess_input(x_valid)\n",
    "x_test = preprocess_input(x_test)"
   ],
   "metadata": {
    "collapsed": false,
    "ExecuteTime": {
     "end_time": "2024-01-05T10:00:23.325702142Z",
     "start_time": "2024-01-05T10:00:20.026599898Z"
    }
   },
   "id": "6bd54830373159ea",
   "execution_count": 3
  },
  {
   "cell_type": "code",
   "outputs": [
    {
     "data": {
      "text/plain": "((13942, 69, 69, 3), (3486, 69, 69, 3), (4357, 69, 69, 3))"
     },
     "execution_count": 4,
     "metadata": {},
     "output_type": "execute_result"
    }
   ],
   "source": [
    "reduceLR = ReduceLROnPlateau(monitor='accuracy', factor=.001, patience=1, min_delta=0.01, mode=\"auto\")\n",
    "x_train.shape, x_valid.shape, x_test.shape"
   ],
   "metadata": {
    "collapsed": false,
    "ExecuteTime": {
     "end_time": "2024-01-05T10:00:23.331720001Z",
     "start_time": "2024-01-05T10:00:23.326983034Z"
    }
   },
   "id": "95338784f61dab2e",
   "execution_count": 4
  },
  {
   "cell_type": "markdown",
   "source": [
    "## 5. Budowa modelu.\n",
    "Model w tym przypadku jest bardzo prosty. Jest to model warstwowy i jako pierwsza warstwa jest to warstwa flatten. Zadaniem tej warstwy jest spłaszczenie obrazu z wymiarów 69*69 na pojedynczy ciąg, jest to warstwa wejściowa. Kolejną warstwą jest warstwa ukryta z aktywatorem RELU. Aktywator ten powoduje, że każdy otrzymany wynik ujemy, zostaje zamieniony na zero [\\[6\\]](#6-httpsbuiltincommachine-learningrelu-activation-function) [\\[7\\]](#7-httpsdatascienceeupluczenie-maszynowerelu-funkcja-aktywujaca). Pozwala to na przełamanie liniowości procesu. Ostatnią warstwą jest gęsto połączona warstwa wyjściowa. W naszym modelu klasyfikacja odbywa się dla 10 kategorii dlatego właśnie taka."
   ],
   "metadata": {
    "collapsed": false
   },
   "id": "63da9a457826ca7c"
  },
  {
   "cell_type": "code",
   "outputs": [],
   "source": [
    "base_model = MobileNetV3Small(weights='imagenet', input_shape=(69, 69,3))\n",
    "base_model.trainable = True\n",
    "\n",
    "model = Sequential()\n",
    "model.add(base_model)\n",
    "model.compile(optimizer='rmsprop', loss='sparse_categorical_crossentropy', metrics=['accuracy'])\n",
    "model.summary()"
   ],
   "metadata": {
    "collapsed": false
   },
   "id": "462e8cedcc3c6eef",
   "execution_count": null
  },
  {
   "cell_type": "markdown",
   "source": [
    "## 6. Uczenie\n",
    "W tym momencie model zaczyna proces uczenia. Czyli otrzymuje dwa zbiory danych i etykiet. Pierwszy z nich to dane, na podstawie których model się uczy. Drugi mniejszy zbiór jest zbiorem walidacyjnym, który pozwala na sprawdzenie postępów w nauce, na danych, których model jeszcze nie widział. Pozwala to ocenić postępy w nauce już w czasie uczenia. Kolejny zbiór danych zostanie wykorzystany na końcu celem ostatecznego sprawdzenia poprawności działania modelu."
   ],
   "metadata": {
    "collapsed": false
   },
   "id": "cfb4888267d0feea"
  },
  {
   "cell_type": "code",
   "outputs": [
    {
     "name": "stdout",
     "output_type": "stream",
     "text": [
      "Epoch 1/10\n",
      "436/436 [==============================] - 136s 304ms/step - loss: 1.1449 - accuracy: 0.6201 - val_loss: 4.5194 - val_accuracy: 0.4234 - lr: 0.0010\n",
      "Epoch 2/10\n",
      "436/436 [==============================] - 129s 296ms/step - loss: 0.7409 - accuracy: 0.7321 - val_loss: 7.7577 - val_accuracy: 0.4733 - lr: 0.0010\n",
      "Epoch 3/10\n",
      "436/436 [==============================] - 130s 298ms/step - loss: 0.6335 - accuracy: 0.7713 - val_loss: 3.1490 - val_accuracy: 0.5666 - lr: 0.0010\n",
      "Epoch 4/10\n",
      "436/436 [==============================] - 127s 292ms/step - loss: 0.5656 - accuracy: 0.7919 - val_loss: 1.2847 - val_accuracy: 0.7197 - lr: 0.0010\n",
      "Epoch 5/10\n",
      "436/436 [==============================] - 128s 293ms/step - loss: 0.5038 - accuracy: 0.8166 - val_loss: 1.8075 - val_accuracy: 0.6552 - lr: 0.0010\n",
      "Epoch 6/10\n",
      "436/436 [==============================] - 129s 296ms/step - loss: 0.4647 - accuracy: 0.8311 - val_loss: 1.9969 - val_accuracy: 0.6867 - lr: 0.0010\n",
      "Epoch 7/10\n",
      "436/436 [==============================] - 130s 297ms/step - loss: 0.4123 - accuracy: 0.8522 - val_loss: 1.2614 - val_accuracy: 0.6922 - lr: 0.0010\n",
      "Epoch 8/10\n",
      "436/436 [==============================] - 129s 295ms/step - loss: 0.3808 - accuracy: 0.8620 - val_loss: 1.0467 - val_accuracy: 0.7527 - lr: 0.0010\n",
      "Epoch 9/10\n",
      "436/436 [==============================] - 130s 298ms/step - loss: 0.3318 - accuracy: 0.8781 - val_loss: 0.7664 - val_accuracy: 0.7883 - lr: 1.0000e-06\n",
      "Epoch 10/10\n",
      "436/436 [==============================] - 130s 299ms/step - loss: 0.3113 - accuracy: 0.8849 - val_loss: 0.6548 - val_accuracy: 0.8029 - lr: 1.0000e-06\n"
     ]
    }
   ],
   "source": [
    "history = model.fit(x_train, y_train, epochs=10, callbacks=[reduceLR],validation_data=(x_valid, y_valid))"
   ],
   "metadata": {
    "collapsed": false,
    "ExecuteTime": {
     "end_time": "2024-01-05T10:22:12.051689570Z",
     "start_time": "2024-01-05T10:00:34.760723973Z"
    }
   },
   "id": "4bbc1b31b09e3b90",
   "execution_count": 6
  },
  {
   "cell_type": "markdown",
   "source": [
    "## 7. Zapis otrzymanych danych podczas nauki\n",
    "Po zakończeniu uczenia zapisujemy dane, które otrzymaliśmy podczas uczenie do pliku CSV. Pozwoli nam to później przeanalizować dane w późniejszym czasie."
   ],
   "metadata": {
    "collapsed": false
   },
   "id": "b26e8a6c97a2092"
  },
  {
   "cell_type": "code",
   "outputs": [],
   "source": [
    "historyModelLearning = pd.DataFrame()\n",
    "historyModelLearning['loss'] = history.history['loss']\n",
    "historyModelLearning['accuracy'] = history.history['accuracy']\n",
    "historyModelLearning['val_loss'] = history.history['val_loss']\n",
    "historyModelLearning['val_accuracy'] = history.history['val_accuracy']\n",
    "historyModelLearning.to_csv('./Results/'+day+'/HistoryModelLearningMobileNet-'+day+'.csv', index=True)"
   ],
   "metadata": {
    "collapsed": false,
    "ExecuteTime": {
     "end_time": "2024-01-05T10:22:12.052095249Z",
     "start_time": "2024-01-05T10:22:12.051434700Z"
    }
   },
   "id": "d4ebc21935c762ef",
   "execution_count": 7
  },
  {
   "cell_type": "markdown",
   "source": [
    "## 8. Sprawdzenie modelu na danych testowych. \n",
    "To jest ostateczne sprawdzenie danych. W tym sprawdzeniu otrzymamy również nie tylko informację jak jest współczynnik błędu klasyfikacji, ale również będziemy mogli przeglądać, które obrazy faktycznie zostały źle zaklasyfikowane i dzięki temu będzie możliwe poprawienie modelu."
   ],
   "metadata": {
    "collapsed": false
   },
   "id": "eaacc77596b78762"
  },
  {
   "cell_type": "code",
   "outputs": [
    {
     "name": "stdout",
     "output_type": "stream",
     "text": [
      "137/137 [==============================] - 2s 14ms/step\n"
     ]
    }
   ],
   "source": [
    "predict = model.predict(x_test).argmax(axis=1)"
   ],
   "metadata": {
    "collapsed": false,
    "ExecuteTime": {
     "end_time": "2024-01-05T10:22:14.351333264Z",
     "start_time": "2024-01-05T10:22:12.051643531Z"
    }
   },
   "id": "9cd814ca5124ec0e",
   "execution_count": 8
  },
  {
   "cell_type": "markdown",
   "source": [
    "## 9. Zapis wyników testów do pliku CSV.\n",
    "To na postawie tych danych będziemy w stanie dokładniej stwierdzić, z czego wynikają problemy z klasyfikacją."
   ],
   "metadata": {
    "collapsed": false
   },
   "id": "e9cd1f7f23af3b1c"
  },
  {
   "cell_type": "code",
   "outputs": [],
   "source": [
    "result = pd.DataFrame()\n",
    "result['predict'] = predict\n",
    "result['test'] = y_test\n",
    "result.to_csv('./Results/'+day+'/ResultMobileNet-'+day+'.csv', index=False)"
   ],
   "metadata": {
    "collapsed": false,
    "ExecuteTime": {
     "end_time": "2024-01-05T10:22:14.395554910Z",
     "start_time": "2024-01-05T10:22:14.351155673Z"
    }
   },
   "id": "1d517abd9ab6edc3",
   "execution_count": 9
  },
  {
   "cell_type": "markdown",
   "source": [
    "## Literatura"
   ],
   "metadata": {
    "collapsed": false
   },
   "id": "1fb7208586f6848d"
  },
  {
   "cell_type": "markdown",
   "source": [
    "##### 1. https://astronn.readthedocs.io/en/stable/galaxy10sdss.html dostęp 2024-01-03\n",
    "##### 2. https://www.sdss4.org/ dostęp 2024-01-03\n",
    "##### 3. https://www.zooniverse.org/projects/zookeeper/galaxy-zoo/ dostęp 2024-01-03\n",
    "##### 4. https://towardsdatascience.com/everything-you-need-to-know-about-mobilenetv3-and-its-comparison-with-previous-versions-a5d5e5a6eeaa dostęp 2024-01-04\n",
    "##### 5. Paweł Krakowiak, Deep learning w języku Python — Konwolucyjne Sieci Neuronowe\n",
    "##### 6. https://builtin.com/machine-learning/relu-activation-function dostęp 2024-01-03\n",
    "##### 7. https://datascience.eu/pl/uczenie-maszynowe/relu-funkcja-aktywujaca/ dostęp 2024-01-03"
   ],
   "metadata": {
    "collapsed": false
   },
   "id": "fbf70ca206342d0f"
  },
  {
   "cell_type": "markdown",
   "source": [],
   "metadata": {
    "collapsed": false
   },
   "id": "d8160c257dbf9b7c"
  }
 ],
 "metadata": {
  "kernelspec": {
   "display_name": "Python 3",
   "language": "python",
   "name": "python3"
  },
  "language_info": {
   "codemirror_mode": {
    "name": "ipython",
    "version": 2
   },
   "file_extension": ".py",
   "mimetype": "text/x-python",
   "name": "python",
   "nbconvert_exporter": "python",
   "pygments_lexer": "ipython2",
   "version": "2.7.6"
  }
 },
 "nbformat": 4,
 "nbformat_minor": 5
}
