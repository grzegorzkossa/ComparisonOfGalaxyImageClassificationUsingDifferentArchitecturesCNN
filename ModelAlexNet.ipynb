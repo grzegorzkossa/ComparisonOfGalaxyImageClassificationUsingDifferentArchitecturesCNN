{
 "cells": [
  {
   "cell_type": "markdown",
   "source": [
    "# Splątane sieci neuronowe CNN – architektura AlexNet"
   ],
   "metadata": {
    "collapsed": false
   },
   "id": "4486a0e54d9433b2"
  },
  {
   "cell_type": "markdown",
   "source": [
    "## 1. Opis\n",
    "Celem projektu jest ustalenie jak różne metody głębokiego uczenia, sprawują się na danych astronomicznych. Do tego celu zostaną wykorzystane dane z projektu AstroNN [\\[1\\]](#1-httpsastronnreadthedocsioenstablegalaxy10sdsshtml). Projekt ten został zbudowany z danych zgromadzonych w projekcie Sloan Digital Sky Survey [\\[2\\]](#2-httpswwwsdss4org) (SDSS), prowadzący szczegółowy obraz nieba. Na podstawie tych danych zostały przygotowane obrazy galaktyk, które są w rozmiarze 64*64*3. Dodatkowo w projekcie są wykorzystane dane zgromadzone w projekcie Galaxy Zoo [\\[3\\]](#3-httpswwwzooniverseorgprojectszookeepergalaxy-zoo), gdzie dokonywana jest klasyfikacja galaktyk. Na podstawie tych danych powstały etykiety, które są wykorzystywane w projekcie."
   ],
   "metadata": {
    "collapsed": false
   },
   "id": "9715661f45ba9108"
  },
  {
   "cell_type": "markdown",
   "source": [
    "AlexNet jest to architektura CNN z roku 2012 [\\[4\\]](#4-bartosz-michalski-małgorzata-plechawska-wójcik-porównanie-modeli-lenet-5-alexnet-i-googlenet-w-rozpoznawaniu-pisma-ręcznego-2022). Jest bardziej rozbudowana niż LeNet5. Została stworzona na zawody ImageNet Large Scale Visual Recognition Challenge (ILSVRC), które wygrała."
   ],
   "metadata": {
    "collapsed": false
   },
   "id": "52090c5e3c9b61b8"
  },
  {
   "cell_type": "markdown",
   "source": [
    "## 2. Pobranie potrzebnych bibliotek\n",
    "Kolejnym krokiem jest wczytanie wszystkich potrzebnych bibliotek, dzięki którym będzie możliwe wykorzystanie ich w procesie klasyfikacji."
   ],
   "metadata": {
    "collapsed": false
   },
   "id": "b55c9364383cccac"
  },
  {
   "cell_type": "code",
   "execution_count": null,
   "id": "initial_id",
   "metadata": {
    "collapsed": true
   },
   "outputs": [],
   "source": [
    "from sklearn.model_selection import train_test_split\n",
    "from keras.models import Sequential\n",
    "from keras.layers import Conv2D, Dropout, Flatten, Dense, MaxPool2D, BatchNormalization\n",
    "from keras.callbacks import ReduceLROnPlateau\n",
    "from keras.optimizers import Adam\n",
    "\n",
    "from astroNN.datasets import galaxy10sdss\n",
    "import pandas as pd\n",
    "from datetime import date\n",
    "import pathlib"
   ]
  },
  {
   "cell_type": "markdown",
   "source": [
    "## 3. Utworzenie daty\n",
    "Następnie ustawiamy datę. Jest to potrzebne do generowania plików wynikowych. W obecnym pliku zostaną wykonane jedynie badania, a wyniki zostaną opracowane w późniejszym czasie. Ma to pozwolić zmniejszyć wymagania sprzętowe przy wykonywaniu projektu."
   ],
   "metadata": {
    "collapsed": false
   },
   "id": "77ce017addbf2175"
  },
  {
   "cell_type": "code",
   "outputs": [],
   "source": [
    "today = date.today()\n",
    "day = today.strftime(\"%Y-%m-%d\")\n",
    "pathlib.Path('./Results/'+day).mkdir(parents=True, exist_ok=True)"
   ],
   "metadata": {
    "collapsed": false,
    "ExecuteTime": {
     "end_time": "2024-01-05T09:33:11.788003755Z",
     "start_time": "2024-01-05T09:33:11.784380213Z"
    }
   },
   "id": "3eb770199ee75ebf",
   "execution_count": 2
  },
  {
   "cell_type": "markdown",
   "source": [
    "## 4. Przygotowanie danych\n",
    "W tym kroku pobieramy dane, a następnie przygotowujemy je do klasyfikacji. Modele głębokiej sieci neuronowej [\\[5\\]](#5-paweł-krakowiak-deep-learning-w-języku-python--konwolucyjne-sieci-neuronowe) wymaga danych z zakresu 0..1, dlatego wszystkie wartości w danych są dzielone przez 255. Powodem takiego zachowania jest fakt, że dane obrazów są przechowywane w zakresie liczb 0..255. Dzielenie przez 255 powoduje, że dane zostaną zapisane w zakresie od 0..1, zgodnie z wymaganiami modelu."
   ],
   "metadata": {
    "collapsed": false
   },
   "id": "e745367131b1b134"
  },
  {
   "cell_type": "code",
   "outputs": [
    {
     "name": "stdout",
     "output_type": "stream",
     "text": [
      "/home/grzegorz/.astroNN/datasets/Galaxy10.h5 was found!\n"
     ]
    }
   ],
   "source": [
    "images, labels = galaxy10sdss.load_data()\n",
    "x_train, x_test, y_train, y_test = train_test_split(images, labels, test_size=0.2)\n",
    "x_train, x_valid, y_train, y_valid = train_test_split(x_train, y_train, test_size=0.2)\n",
    "\n",
    "features = ['Disk, Face-on, No Spiral', 'Smooth, Completely round', 'Smooth, in-between round', 'Smooth, Cigar shaped', 'Disk, Edge-on, Rounded Bulge', 'Disk, Edge-on, Boxy Bulge','Disk, Edge-on, No Bulge','Disk, Face-on, Tight Spiral', 'Disk, Face-on, Medium Spiral', 'Disk, Face-on, Loose Spiral']\n",
    "\n",
    "x_train = x_train / 255.0\n",
    "x_valid = x_valid / 255.0\n",
    "x_test = x_test / 255.0"
   ],
   "metadata": {
    "collapsed": false,
    "ExecuteTime": {
     "end_time": "2024-01-05T09:33:19.295421380Z",
     "start_time": "2024-01-05T09:33:15.862592111Z"
    }
   },
   "id": "73e217d589618dc3",
   "execution_count": 3
  },
  {
   "cell_type": "code",
   "outputs": [
    {
     "data": {
      "text/plain": "((13942, 69, 69, 3), (3486, 69, 69, 3), (4357, 69, 69, 3))"
     },
     "execution_count": 4,
     "metadata": {},
     "output_type": "execute_result"
    }
   ],
   "source": [
    "reduceLR = ReduceLROnPlateau(monitor='accuracy', factor=.001, patience=1, min_delta=0.01, mode=\"auto\")\n",
    "x_train.shape, x_valid.shape, x_test.shape"
   ],
   "metadata": {
    "collapsed": false,
    "ExecuteTime": {
     "end_time": "2024-01-05T09:33:20.774585245Z",
     "start_time": "2024-01-05T09:33:20.757181572Z"
    }
   },
   "id": "4b0c844cc0ebefbd",
   "execution_count": 4
  },
  {
   "cell_type": "markdown",
   "source": [
    "## 5. Budowa modelu.\n",
    "Model w tym przypadku jest bardzo prosty. Jest to model warstwowy i jako pierwsza warstwa jest to warstwa flatten. Zadaniem tej warstwy jest spłaszczenie obrazu z wymiarów 69*69 na pojedynczy ciąg, jest to warstwa wejściowa. Kolejną warstwą jest warstwa ukryta z aktywatorem RELU. Aktywator ten powoduje, że każdy otrzymany wynik ujemy, zostaje zamieniony na zero [\\[6\\]](#6-httpsbuiltincommachine-learningrelu-activation-function) [\\[7\\]](#7-httpsdatascienceeupluczenie-maszynowerelu-funkcja-aktywujaca). Pozwala to na przełamanie liniowości procesu. Ostatnią warstwą jest gęsto połączona warstwa wyjściowa. W naszym modelu klasyfikacja odbywa się dla 10 kategorii dlatego właśnie taka."
   ],
   "metadata": {
    "collapsed": false
   },
   "id": "a7cda86859e4029b"
  },
  {
   "cell_type": "code",
   "outputs": [],
   "source": [
    "model = Sequential()\n",
    "model.add(Conv2D(filters=96, kernel_size=(11, 11), strides=(4, 4), activation=\"relu\", input_shape=(69, 69, 3)))\n",
    "model.add(BatchNormalization())\n",
    "model.add(MaxPool2D(pool_size=(3, 3), strides= (2, 2)))\n",
    "model.add(Conv2D(filters=256, kernel_size=(5, 5), strides=(1, 1), activation=\"relu\", padding=\"same\"))\n",
    "model.add(BatchNormalization())\n",
    "model.add(MaxPool2D(pool_size=(3, 3), strides=(2, 2)))\n",
    "model.add(Conv2D(filters=384, kernel_size=(3, 3), strides=(1, 1), activation=\"relu\", padding=\"same\"))\n",
    "model.add(BatchNormalization())\n",
    "model.add(Conv2D(filters=384, kernel_size=(3, 3), strides=(1, 1), activation=\"relu\", padding=\"same\"))\n",
    "model.add(BatchNormalization())\n",
    "model.add(Conv2D(filters=256, kernel_size=(3, 3), strides=(1, 1), activation=\"relu\", padding=\"same\"))\n",
    "model.add(BatchNormalization())\n",
    "model.add(MaxPool2D(pool_size=(3, 3), strides=(2, 2)))\n",
    "model.add(Flatten())\n",
    "model.add(Dense(4096, activation=\"relu\"))\n",
    "model.add(Dropout(0.5))\n",
    "model.add(Dense(10, activation=\"softmax\"))\n",
    "model_optimizer = Adam(learning_rate=0.001)\n",
    "model.compile(optimizer=model_optimizer, loss='sparse_categorical_crossentropy', metrics=['accuracy'])\n",
    "model.summary()"
   ],
   "metadata": {
    "collapsed": false
   },
   "id": "408c74a637522a13",
   "execution_count": null
  },
  {
   "cell_type": "markdown",
   "source": [
    "## 6. Uczenie\n",
    "W tym momencie model zaczyna proces uczenia. Czyli otrzymuje dwa zbiory danych i etykiet. Pierwszy z nich to dane, na podstawie których model się uczy. Drugi mniejszy zbiór jest zbiorem walidacyjnym, który pozwala na sprawdzenie postępów w nauce, na danych, których model jeszcze nie widział. Pozwala to ocenić postępy w nauce już w czasie uczenia. Kolejny zbiór danych zostanie wykorzystany na końcu celem ostatecznego sprawdzenia poprawności działania modelu."
   ],
   "metadata": {
    "collapsed": false
   },
   "id": "5157e5a4e640bb76"
  },
  {
   "cell_type": "code",
   "outputs": [
    {
     "name": "stdout",
     "output_type": "stream",
     "text": [
      "Epoch 1/10\n",
      "436/436 [==============================] - 16s 35ms/step - loss: 1.3921 - accuracy: 0.4859 - val_loss: 1.6387 - val_accuracy: 0.3810 - lr: 0.0010\n",
      "Epoch 2/10\n",
      "436/436 [==============================] - 16s 37ms/step - loss: 1.0181 - accuracy: 0.6165 - val_loss: 1.2744 - val_accuracy: 0.6013 - lr: 0.0010\n",
      "Epoch 3/10\n",
      "436/436 [==============================] - 17s 38ms/step - loss: 0.9046 - accuracy: 0.6589 - val_loss: 1.2575 - val_accuracy: 0.5826 - lr: 0.0010\n",
      "Epoch 4/10\n",
      "436/436 [==============================] - 16s 37ms/step - loss: 0.8503 - accuracy: 0.6840 - val_loss: 1.3107 - val_accuracy: 0.5800 - lr: 0.0010\n",
      "Epoch 5/10\n",
      "436/436 [==============================] - 17s 39ms/step - loss: 0.8212 - accuracy: 0.6964 - val_loss: 0.8343 - val_accuracy: 0.6796 - lr: 0.0010\n",
      "Epoch 6/10\n",
      "436/436 [==============================] - 16s 37ms/step - loss: 0.7805 - accuracy: 0.7187 - val_loss: 2.1258 - val_accuracy: 0.3078 - lr: 0.0010\n",
      "Epoch 7/10\n",
      "436/436 [==============================] - 17s 38ms/step - loss: 0.7549 - accuracy: 0.7165 - val_loss: 1.0686 - val_accuracy: 0.5508 - lr: 0.0010\n",
      "Epoch 8/10\n",
      "436/436 [==============================] - 16s 37ms/step - loss: 0.6744 - accuracy: 0.7553 - val_loss: 0.6819 - val_accuracy: 0.7513 - lr: 1.0000e-06\n",
      "Epoch 9/10\n",
      "436/436 [==============================] - 18s 41ms/step - loss: 0.6650 - accuracy: 0.7606 - val_loss: 0.6746 - val_accuracy: 0.7530 - lr: 1.0000e-06\n",
      "Epoch 10/10\n",
      "436/436 [==============================] - 17s 40ms/step - loss: 0.6597 - accuracy: 0.7631 - val_loss: 0.6749 - val_accuracy: 0.7513 - lr: 1.0000e-09\n"
     ]
    }
   ],
   "source": [
    "history = model.fit(x_train, y_train, epochs=10, callbacks=[reduceLR],validation_data=(x_valid, y_valid))"
   ],
   "metadata": {
    "collapsed": false,
    "ExecuteTime": {
     "end_time": "2024-01-05T09:36:16.037988872Z",
     "start_time": "2024-01-05T09:33:29.606683858Z"
    }
   },
   "id": "5173e10cdafc3831",
   "execution_count": 6
  },
  {
   "cell_type": "markdown",
   "source": [
    "## 7. Zapis otrzymanych danych podczas nauki\n",
    "Po zakończeniu uczenia zapisujemy dane, które otrzymaliśmy podczas uczenie do pliku CSV. Pozwoli nam to później przeanalizować dane w późniejszym czasie."
   ],
   "metadata": {
    "collapsed": false
   },
   "id": "2ff79fc46cd4b1ed"
  },
  {
   "cell_type": "code",
   "outputs": [],
   "source": [
    "historyModelLearning = pd.DataFrame()\n",
    "historyModelLearning['loss'] = history.history['loss']\n",
    "historyModelLearning['accuracy'] = history.history['accuracy']\n",
    "historyModelLearning['val_loss'] = history.history['val_loss']\n",
    "historyModelLearning['val_accuracy'] = history.history['val_accuracy']\n",
    "historyModelLearning.to_csv('./Results/'+day+'/HistoryModelLearningAlexNet-'+day+'.csv', index=True)"
   ],
   "metadata": {
    "collapsed": false,
    "ExecuteTime": {
     "end_time": "2024-01-05T09:36:16.043355387Z",
     "start_time": "2024-01-05T09:36:16.037537667Z"
    }
   },
   "id": "2b8b5256297b09aa",
   "execution_count": 7
  },
  {
   "cell_type": "markdown",
   "source": [
    "## 8. Sprawdzenie modelu na danych testowych. \n",
    "To jest ostateczne sprawdzenie danych. W tym sprawdzeniu otrzymamy również nie tylko informację jak jest współczynnik błędu klasyfikacji, ale również będziemy mogli przeglądać, które obrazy faktycznie zostały źle zaklasyfikowane i dzięki temu będzie możliwe poprawienie modelu."
   ],
   "metadata": {
    "collapsed": false
   },
   "id": "dd7c180e1d576d30"
  },
  {
   "cell_type": "code",
   "outputs": [
    {
     "name": "stdout",
     "output_type": "stream",
     "text": [
      "137/137 [==============================] - 2s 12ms/step\n"
     ]
    }
   ],
   "source": [
    "predict = model.predict(x_test).argmax(axis=1)"
   ],
   "metadata": {
    "collapsed": false,
    "ExecuteTime": {
     "end_time": "2024-01-05T09:36:17.983626217Z",
     "start_time": "2024-01-05T09:36:16.042279668Z"
    }
   },
   "id": "cf0a63dd8d00c371",
   "execution_count": 8
  },
  {
   "cell_type": "markdown",
   "source": [
    "## 9. Zapis wyników testów do pliku CSV.\n",
    "To na postawie tych danych będziemy w stanie dokładniej stwierdzić, z czego wynikają problemy z klasyfikacją."
   ],
   "metadata": {
    "collapsed": false
   },
   "id": "45d03a14706662d"
  },
  {
   "cell_type": "code",
   "outputs": [],
   "source": [
    "result = pd.DataFrame()\n",
    "result['predict'] = predict\n",
    "result['test'] = y_test\n",
    "result.to_csv('./Results/'+day+'/ResultAlexNet-'+day+'.csv', index=False)"
   ],
   "metadata": {
    "collapsed": false,
    "ExecuteTime": {
     "end_time": "2024-01-05T09:36:17.984215880Z",
     "start_time": "2024-01-05T09:36:17.983385687Z"
    }
   },
   "id": "f4c475b8d4e6007b",
   "execution_count": 9
  },
  {
   "cell_type": "markdown",
   "source": [
    "## Literatura"
   ],
   "metadata": {
    "collapsed": false
   },
   "id": "9080b6482bdb359e"
  },
  {
   "cell_type": "markdown",
   "source": [
    "##### 1. https://astronn.readthedocs.io/en/stable/galaxy10sdss.html\n",
    "##### 2. https://www.sdss4.org/\n",
    "##### 3. https://www.zooniverse.org/projects/zookeeper/galaxy-zoo/\n",
    "##### 4. Bartosz Michalski, Małgorzata Plechawska-Wójcik, Porównanie modeli LeNet-5, AlexNet i GoogLeNet w rozpoznawaniu pisma ręcznego, 2022\n",
    "##### 5. Paweł Krakowiak, Deep learning w języku Python — Konwolucyjne Sieci Neuronowe\n",
    "##### 6. https://builtin.com/machine-learning/relu-activation-function\n",
    "##### 7. https://datascience.eu/pl/uczenie-maszynowe/relu-funkcja-aktywujaca/"
   ],
   "metadata": {
    "collapsed": false
   },
   "id": "83a33c5377d79ce7"
  },
  {
   "cell_type": "code",
   "outputs": [],
   "source": [],
   "metadata": {
    "collapsed": false
   },
   "id": "954b4dbae552ed74"
  }
 ],
 "metadata": {
  "kernelspec": {
   "display_name": "Python 3",
   "language": "python",
   "name": "python3"
  },
  "language_info": {
   "codemirror_mode": {
    "name": "ipython",
    "version": 2
   },
   "file_extension": ".py",
   "mimetype": "text/x-python",
   "name": "python",
   "nbconvert_exporter": "python",
   "pygments_lexer": "ipython2",
   "version": "2.7.6"
  }
 },
 "nbformat": 4,
 "nbformat_minor": 5
}
