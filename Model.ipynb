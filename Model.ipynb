{
 "cells": [
  {
   "cell_type": "markdown",
   "source": [
    "# Głębokie sieci neuronowe DNN"
   ],
   "metadata": {
    "collapsed": false
   },
   "id": "51bbbb359b3a43bd"
  },
  {
   "cell_type": "markdown",
   "source": [
    "## 1. Opis\n",
    "Celem projektu jest ustalenie jak różne metody głębokiego uczenia, sprawują się na danych astronomicznych. Do tego celu zostaną wykorzystane dane z projektu AstroNN [\\[1\\]](#1-httpsastronnreadthedocsioenstablegalaxy10sdsshtml). Projekt ten został zbudowany z danych zgromadzonych w projekcie Sloan Digital Sky Survey [\\[2\\]](#2-httpswwwsdss4org) (SDSS), prowadzący szczegółowy obraz nieba. Na podstawie tych danych zostały przygotowane obrazy galaktyk, które są w rozmiarze 64*64*3. Dodatkowo w projekcie AstroNN są wykorzystane dane zgromadzone w projekcie Galaxy Zoo [\\[3\\]](#3-httpswwwzooniverseorgprojectszookeepergalaxy-zoo), gdzie dokonywana jest klasyfikacja galaktyk. Na podstawie tych danych powstały etykiety, które są wykorzystywane w projekcie AstroNN."
   ],
   "metadata": {
    "collapsed": false
   },
   "id": "16ff41cb8e3f05ea"
  },
  {
   "cell_type": "markdown",
   "source": [
    "Pierwszy model jest to model głębokiej sieci neuronowej. W tym przypadku nie wykorzystuje architektur CNN. Ma to tylko na celu sprawdzenie, jak będzie się zachowywał prosty model uczenia głębokiego."
   ],
   "metadata": {
    "collapsed": false
   },
   "id": "675779e55634d43e"
  },
  {
   "cell_type": "markdown",
   "source": [
    "## 2. Pobranie potrzebnych bibliotek\n",
    "Kolejnym krokiem jest wczytanie wszystkich potrzebnych bibliotek, dzięki którym będzie możliwe wykorzystanie ich w procesie klasyfikacji."
   ],
   "metadata": {
    "collapsed": false
   },
   "id": "dab60ededcefe4f6"
  },
  {
   "cell_type": "code",
   "execution_count": null,
   "id": "initial_id",
   "metadata": {
    "collapsed": true
   },
   "outputs": [],
   "source": [
    "from sklearn.model_selection import train_test_split\n",
    "from keras.models import Sequential\n",
    "from keras.layers import Flatten, Dense\n",
    "from keras.callbacks import ReduceLROnPlateau\n",
    "from keras.optimizers import Adam\n",
    "\n",
    "from astroNN.datasets import galaxy10sdss\n",
    "import pandas as pd\n",
    "from datetime import date\n",
    "import pathlib"
   ]
  },
  {
   "cell_type": "markdown",
   "source": [
    "## 3. Utworzenie daty\n",
    "Następnie ustawiamy datę. Jest to potrzebne do generowania plików wynikowych. W obecnym pliku zostaną wykonane jedynie badania, a wyniki zostaną opracowane w późniejszym czasie. Ma to pozwolić zmniejszyć wymagania sprzętowe przy wykonywaniu projektu."
   ],
   "metadata": {
    "collapsed": false
   },
   "id": "d7b7fb8a67b161e3"
  },
  {
   "cell_type": "code",
   "outputs": [],
   "source": [
    "today = date.today()\n",
    "day = today.strftime(\"%Y-%m-%d\")\n",
    "pathlib.Path('./Results/'+day).mkdir(parents=True, exist_ok=True)"
   ],
   "metadata": {
    "collapsed": false,
    "ExecuteTime": {
     "end_time": "2024-01-05T09:05:21.140698719Z",
     "start_time": "2024-01-05T09:05:21.091408691Z"
    }
   },
   "id": "8a4369e6b73bbe29",
   "execution_count": 4
  },
  {
   "cell_type": "markdown",
   "source": [
    "## 4. Przygotowanie danych\n",
    "W tym kroku pobieramy dane, a następnie przygotowujemy je do klasyfikacji. Modele głębokiej sieci neuronowej [\\[4\\]](#4-paweł-krakowiak-deep-learning-w-języku-python--konwolucyjne-sieci-neuronowe) wymaga danych z zakresu 0..1, dlatego wszystkie wartości w danych są dzielone przez 255. Powodem takiego zachowania jest fakt, że dane obrazów są przechowywane w zakresie liczb 0..255. Dzielenie przez 255 powoduje, że dane zostaną zapisane w zakresie od 0..1, zgodnie z wymaganiami modelu."
   ],
   "metadata": {
    "collapsed": false
   },
   "id": "c7f748cc1f3c2611"
  },
  {
   "cell_type": "code",
   "outputs": [
    {
     "name": "stdout",
     "output_type": "stream",
     "text": [
      "/home/grzegorz/.astroNN/datasets/Galaxy10.h5 was found!\n"
     ]
    }
   ],
   "source": [
    "images, labels = galaxy10sdss.load_data()\n",
    "x_train, x_test, y_train, y_test = train_test_split(images, labels, test_size=0.2)\n",
    "x_train, x_valid, y_train, y_valid = train_test_split(x_train, y_train, test_size=0.2)\n",
    "\n",
    "features = ['Disk, Face-on, No Spiral', 'Smooth, Completely round', 'Smooth, in-between round', 'Smooth, Cigar shaped', 'Disk, Edge-on, Rounded Bulge', 'Disk, Edge-on, Boxy Bulge','Disk, Edge-on, No Bulge','Disk, Face-on, Tight Spiral', 'Disk, Face-on, Medium Spiral', 'Disk, Face-on, Loose Spiral']\n",
    "\n",
    "x_train = x_train / 255.0\n",
    "x_valid = x_valid / 255.0\n",
    "x_test = x_test / 255.0"
   ],
   "metadata": {
    "collapsed": false,
    "ExecuteTime": {
     "end_time": "2024-01-05T09:05:27.844278478Z",
     "start_time": "2024-01-05T09:05:24.268140835Z"
    }
   },
   "id": "9f76c6de7cd7e775",
   "execution_count": 5
  },
  {
   "cell_type": "code",
   "outputs": [
    {
     "data": {
      "text/plain": "((13942, 69, 69, 3), (3486, 69, 69, 3), (4357, 69, 69, 3))"
     },
     "execution_count": 6,
     "metadata": {},
     "output_type": "execute_result"
    }
   ],
   "source": [
    "reduceLR = ReduceLROnPlateau(monitor='accuracy', factor=.001, patience=1, min_delta=0.01, mode=\"auto\")\n",
    "x_train.shape, x_valid.shape, x_test.shape"
   ],
   "metadata": {
    "collapsed": false,
    "ExecuteTime": {
     "end_time": "2024-01-05T09:05:30.701551879Z",
     "start_time": "2024-01-05T09:05:30.696835613Z"
    }
   },
   "id": "b5ebe91f58ea4c81",
   "execution_count": 6
  },
  {
   "cell_type": "markdown",
   "source": [
    "## 5. Budowa modelu.\n",
    "Model w tym przypadku jest bardzo prosty. Jest to model warstwowy i jako pierwsza warstwa jest to warstwa flatten. Zadaniem tej warstwy jest spłaszczenie obrazu z wymiarów 69*69 na pojedynczy ciąg, jest to warstwa wejściowa. Kolejną warstwą jest warstwa ukryta z aktywatorem RELU. Aktywator ten powoduje, że każdy otrzymany wynik ujemy, zostaje zamieniony na zero [\\[5\\]](#5-httpsbuiltincommachine-learningrelu-activation-function) [\\[6\\]](#6-httpsdatascienceeupluczenie-maszynowerelu-funkcja-aktywujaca). Pozwala to na przełamanie liniowości procesu. Ostatnią warstwą jest gęsto połączona warstwa wyjściowa. W naszym modelu klasyfikacja odbywa się dla 10 kategorii dlatego właśnie taka."
   ],
   "metadata": {
    "collapsed": false
   },
   "id": "d961b907ef777904"
  },
  {
   "cell_type": "code",
   "outputs": [],
   "source": [
    "model = Sequential()\n",
    "model.add(Flatten(input_shape=(69,69,3)))\n",
    "model.add(Dense(128, activation='relu'))\n",
    "model.add(Dense(10, activation='softmax'))\n",
    "model_optimizer = Adam(learning_rate=0.001)\n",
    "\n",
    "model.compile(optimizer=model_optimizer, loss='sparse_categorical_crossentropy', metrics=[\"accuracy\"])\n",
    "model.summary()"
   ],
   "metadata": {
    "collapsed": false
   },
   "id": "3293b92a553a31fc",
   "execution_count": null
  },
  {
   "cell_type": "markdown",
   "source": [
    "## 6. Uczenie\n",
    "W tym momencie model zaczyna proces uczenia. Czyli otrzymuje dwa zbiory danych i etykiet. Pierwszy z nich to dane, na podstawie których model się uczy. Drugi mniejszy zbiór jest zbiorem walidacyjnym, który pozwala na sprawdzenie postępów w nauce, na danych, których model jeszcze nie widział. Pozwala to ocenić postępy w nauce już w czasie uczenia. Kolejny zbiór danych zostanie wykorzystany na końcu celem ostatecznego sprawdzenia poprawności działania modelu."
   ],
   "metadata": {
    "collapsed": false
   },
   "id": "46fef5b3de8e5001"
  },
  {
   "cell_type": "code",
   "outputs": [
    {
     "name": "stdout",
     "output_type": "stream",
     "text": [
      "Epoch 1/10\n",
      "436/436 [==============================] - 3s 7ms/step - loss: 1.5519 - accuracy: 0.3964 - val_loss: 1.3364 - val_accuracy: 0.5298 - lr: 0.0010\n",
      "Epoch 2/10\n",
      "436/436 [==============================] - 2s 6ms/step - loss: 1.1795 - accuracy: 0.5676 - val_loss: 1.0964 - val_accuracy: 0.6070 - lr: 0.0010\n",
      "Epoch 3/10\n",
      "436/436 [==============================] - 3s 6ms/step - loss: 1.0447 - accuracy: 0.6249 - val_loss: 1.0159 - val_accuracy: 0.6400 - lr: 0.0010\n",
      "Epoch 4/10\n",
      "436/436 [==============================] - 2s 6ms/step - loss: 0.9732 - accuracy: 0.6468 - val_loss: 0.9828 - val_accuracy: 0.6538 - lr: 0.0010\n",
      "Epoch 5/10\n",
      "436/436 [==============================] - 3s 6ms/step - loss: 0.9204 - accuracy: 0.6714 - val_loss: 0.9618 - val_accuracy: 0.6555 - lr: 0.0010\n",
      "Epoch 6/10\n",
      "436/436 [==============================] - 2s 6ms/step - loss: 0.8825 - accuracy: 0.6863 - val_loss: 1.0620 - val_accuracy: 0.6064 - lr: 0.0010\n",
      "Epoch 7/10\n",
      "436/436 [==============================] - 3s 6ms/step - loss: 0.8493 - accuracy: 0.7005 - val_loss: 0.9348 - val_accuracy: 0.6730 - lr: 0.0010\n",
      "Epoch 8/10\n",
      "436/436 [==============================] - 2s 5ms/step - loss: 0.8232 - accuracy: 0.7077 - val_loss: 0.8943 - val_accuracy: 0.6890 - lr: 0.0010\n",
      "Epoch 9/10\n",
      "436/436 [==============================] - 2s 6ms/step - loss: 0.7389 - accuracy: 0.7474 - val_loss: 0.8870 - val_accuracy: 0.6933 - lr: 1.0000e-06\n",
      "Epoch 10/10\n",
      "436/436 [==============================] - 3s 6ms/step - loss: 0.7338 - accuracy: 0.7497 - val_loss: 0.8842 - val_accuracy: 0.6939 - lr: 1.0000e-06\n"
     ]
    }
   ],
   "source": [
    "history = model.fit(x_train, y_train, epochs=10, callbacks=[reduceLR],validation_data=(x_valid, y_valid))"
   ],
   "metadata": {
    "collapsed": false,
    "ExecuteTime": {
     "end_time": "2024-01-05T09:06:13.980982430Z",
     "start_time": "2024-01-05T09:05:47.895499519Z"
    }
   },
   "id": "ecc53768b999421e",
   "execution_count": 8
  },
  {
   "cell_type": "markdown",
   "source": [
    "## 7. Zapis otrzymanych danych podczas nauki\n",
    "Po zakończeniu uczenia zapisujemy dane, które otrzymaliśmy podczas uczenie do pliku CSV. Pozwoli nam to później przeanalizować dane w późniejszym czasie."
   ],
   "metadata": {
    "collapsed": false
   },
   "id": "f10d89811804fc6b"
  },
  {
   "cell_type": "code",
   "outputs": [],
   "source": [
    "historyModelLearning = pd.DataFrame()\n",
    "historyModelLearning['loss'] = history.history['loss']\n",
    "historyModelLearning['accuracy'] = history.history['accuracy']\n",
    "historyModelLearning['val_loss'] = history.history['val_loss']\n",
    "historyModelLearning['val_accuracy'] = history.history['val_accuracy']\n",
    "historyModelLearning.to_csv('./Results/'+day+'/HistoryModelLearning-'+day+'.csv', index=True)"
   ],
   "metadata": {
    "collapsed": false,
    "ExecuteTime": {
     "end_time": "2024-01-05T09:06:22.705525945Z",
     "start_time": "2024-01-05T09:06:22.661177992Z"
    }
   },
   "id": "28df98a2e415bfa9",
   "execution_count": 9
  },
  {
   "cell_type": "markdown",
   "source": [
    "## 8. Sprawdzenie modelu na danych testowych. \n",
    "To jest ostateczne sprawdzenie danych. W tym sprawdzeniu otrzymamy również nie tylko informację jak jest współczynnik błędu klasyfikacji, ale również będziemy mogli przeglądać, które obrazy faktycznie zostały źle zaklasyfikowane i dzięki temu będzie możliwe poprawienie modelu."
   ],
   "metadata": {
    "collapsed": false
   },
   "id": "46af2f0a511b0ca0"
  },
  {
   "cell_type": "code",
   "outputs": [
    {
     "name": "stdout",
     "output_type": "stream",
     "text": [
      "137/137 [==============================] - 0s 3ms/step\n"
     ]
    }
   ],
   "source": [
    "predict = model.predict(x_test).argmax(axis=1)"
   ],
   "metadata": {
    "collapsed": false,
    "ExecuteTime": {
     "end_time": "2024-01-05T09:06:26.323502058Z",
     "start_time": "2024-01-05T09:06:25.757314760Z"
    }
   },
   "id": "cd04ca31561a6244",
   "execution_count": 10
  },
  {
   "cell_type": "markdown",
   "source": [
    "## 9. Zapis wyników testów do pliku CSV.\n",
    "To na postawie tych danych będziemy w stanie dokładniej stwierdzić, z czego wynikają problemy z klasyfikacją."
   ],
   "metadata": {
    "collapsed": false
   },
   "id": "c2b4300f316851e6"
  },
  {
   "cell_type": "code",
   "outputs": [],
   "source": [
    "result = pd.DataFrame()\n",
    "result['predict'] = predict\n",
    "result['test'] = y_test\n",
    "result.to_csv('./Results/'+day+'/Result-'+day+'.csv', index=False)"
   ],
   "metadata": {
    "collapsed": false,
    "ExecuteTime": {
     "end_time": "2024-01-05T09:06:28.936463440Z",
     "start_time": "2024-01-05T09:06:28.930831901Z"
    }
   },
   "id": "f527351f76a67be5",
   "execution_count": 11
  },
  {
   "cell_type": "markdown",
   "source": [
    "## Literatura"
   ],
   "metadata": {
    "collapsed": false
   },
   "id": "880961abfce2920b"
  },
  {
   "cell_type": "markdown",
   "source": [
    "##### 1. https://astronn.readthedocs.io/en/stable/galaxy10sdss.html\n",
    "##### 2. https://www.sdss4.org/\n",
    "##### 3. https://www.zooniverse.org/projects/zookeeper/galaxy-zoo/\n",
    "##### 4. Paweł Krakowiak, Deep learning w języku Python — Konwolucyjne Sieci Neuronowe\n",
    "##### 5. https://builtin.com/machine-learning/relu-activation-function\n",
    "##### 6. https://datascience.eu/pl/uczenie-maszynowe/relu-funkcja-aktywujaca/"
   ],
   "metadata": {
    "collapsed": false
   },
   "id": "7c2caa121ce1227d"
  },
  {
   "cell_type": "code",
   "outputs": [],
   "source": [],
   "metadata": {
    "collapsed": false
   },
   "id": "7f489eac7efcdd88"
  }
 ],
 "metadata": {
  "kernelspec": {
   "display_name": "Python 3",
   "language": "python",
   "name": "python3"
  },
  "language_info": {
   "codemirror_mode": {
    "name": "ipython",
    "version": 2
   },
   "file_extension": ".py",
   "mimetype": "text/x-python",
   "name": "python",
   "nbconvert_exporter": "python",
   "pygments_lexer": "ipython2",
   "version": "2.7.6"
  }
 },
 "nbformat": 4,
 "nbformat_minor": 5
}
